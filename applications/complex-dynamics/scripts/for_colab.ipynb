{
  "nbformat": 4,
  "nbformat_minor": 0,
  "metadata": {
    "colab": {
      "name": "Untitled3.ipynb",
      "provenance": []
    },
    "kernelspec": {
      "name": "python3",
      "display_name": "Python 3"
    }
  },
  "cells": [
    {
      "cell_type": "markdown",
      "metadata": {
        "id": "xMdDysay3o9S"
      },
      "source": [
        "<h2>instructions: <br><b>Press \"runn all\" and go to the bottom to connect to GoogleDrive</b></h2>"
      ]
    },
    {
      "cell_type": "markdown",
      "metadata": {
        "id": "a-Tm-uvsSEhb"
      },
      "source": [
        "\n",
        "<b> (1) Functions used to generate two-dimensional second-order ordinary differential equations and calculate their fixed points </b>\n",
        "<br><i>(slowest part of the code!)</i>"
      ]
    },
    {
      "cell_type": "code",
      "metadata": {
        "id": "GsfPhUHORBTH"
      },
      "source": [
        "import sys\n",
        "import pickle\n",
        "\n",
        "import numpy as np\n",
        "from sympy.solvers import nonlinsolve, solve, solveset\n",
        "\n",
        "from sympy.geometry import Point\n",
        "from sympy.core.symbol import symbols\n",
        "from sympy import Symbol, Eq\n",
        "\n",
        "def find_zeros(p: list):\n",
        "\n",
        "  #*** this is the equation!\n",
        "  #              0,5       1,6       2,7         3,8        4,9\n",
        "  # d(x) = dt * (a_1 * x + b_1 * y + c_1 * x^2 + d_1 * x*y + e_1 * y^2) \n",
        "  # d(y) = dt * (a_2 * x + b_2 * y + c_2 * x^2 + d_2 * y*x + e_2 * y^2) \n",
        "\n",
        "  x, y = symbols('x y')\n",
        "  Z = Point(x,y)\n",
        "  r = solve([\n",
        "             Z[0] * p[0] + Z[1] * p[1] + (Z[0]**2) * p[2] + (Z[0]**2) * p[4] + (Z[0]*Z[1]) * p[3],\n",
        "             Z[0] * p[5] + Z[1] * p[6] + (Z[0]**2) * p[7] + (Z[1]**2) * p[9] + (Z[0]*Z[1]) * p[8],\n",
        "                  ],Z,real=True)\n",
        "  output = []\n",
        "  for x in r:\n",
        "    if x[0].is_real and x[1].is_real: output.append(x)\n",
        "  if len(output)==1: output.append(output[0])\n",
        "  return tuple(output)\n",
        "\n",
        "def eval(p: list, Z: list):\n",
        "  \"\"\"\n",
        "  auxiliary function for testing the roots that \"find_zeros\" finds!\n",
        "  \"\"\"\n",
        "  return  (Z[0] * p[0] + Z[1] * p[1] + (Z[0]**2) * p[2] + (Z[0]**2) * p[4] + (Z[0]*Z[1]) * p[3],\n",
        "             Z[0] * p[5] + Z[1] * p[6] + (Z[0]**2) * p[7] + (Z[1]**2) * p[9] + (Z[0]*Z[1]) * p[8])\n",
        "\n",
        "def view(i):\n",
        "  \"\"\"\n",
        "  auxiliary function for testing the roots that \"find_zeros\" finds!\n",
        "  \"\"\"\n",
        "  try:\n",
        "    with open('equations_and_solutions.pkl','rb') as w: data=pickle.load(w)\n",
        "  except:\n",
        "    with open('database/equations_and_solutions.pkl','rb') as w: data=pickle.load(w)\n",
        "  k = list(data.keys())\n",
        "  for j in range(len(data[k[i]])):\n",
        "    print(f'root N {j} is {data[k[i]][j]} and evals to {eval(k[i],data[k[i]][j])}')\n",
        "\n",
        "\n",
        "def generate_parameters(size: int = 10):\n",
        "  return tuple(np.random.rand()*np.random.choice([-1,1],size))\n",
        "\n",
        "\n",
        "def generator(TIMES):\n",
        "  from datetime import datetime\n",
        "  from dateutil.relativedelta import relativedelta\n",
        "  data = {}\n",
        "  ta = datetime.now()\n",
        "  for _ in range(TIMES):\n",
        "    if _%20==0: \n",
        "      tb = datetime.now()\n",
        "      dt = relativedelta(tb,ta)\n",
        "      print(f'Lap {_} of {TIMES} took {dt.seconds+dt.microseconds/1e6} seconds\\n')\n",
        "      ta = datetime.now()\n",
        "    p = generate_parameters()\n",
        "    z = find_zeros(p)\n",
        "    data[tuple(p)] = z\n",
        "  return data\n"
      ],
      "execution_count": 1,
      "outputs": []
    },
    {
      "cell_type": "markdown",
      "metadata": {
        "id": "UeilfQQBSpW0"
      },
      "source": [
        "\n",
        "<b> (2) Functions used to calculate the stability of the fixed points and make a veredict about the equation </b>\n",
        "<br><i>(i.e. answer the question: does it have unstable equilibriums and hence do regions forbidden at infinite time exist?)</i>\n"
      ]
    },
    {
      "cell_type": "code",
      "metadata": {
        "id": "ZWCWAAgPRKfj"
      },
      "source": [
        "#!/usr/bin/env python\n",
        "\n",
        "import numpy as np\n",
        "import pandas as pd\n",
        "import pickle\n",
        "\n",
        "def matrix_calculator(p, x):\n",
        "  \"\"\" \n",
        "  only for order 2!\n",
        "  \"\"\"\n",
        "  #              0,5       1,6       2,7         3,8        4,9\n",
        "  # d(x) = dt * (a_1 * x + b_1 * y + c_1 * x^2 + d_1 * x*y + e_1 * y^2) \n",
        "  # d(y) = dt * (a_2 * x + b_2 * y + c_2 * x^2 + d_2 * y*x + e_2 * y^2) \n",
        "  return    np.asarray([\n",
        "              [  p[0]+2*p[2]*x[0]+p[3]*x[1],\n",
        "                 p[1]+2*p[4]*x[1]+p[3]*x[0],],\n",
        "\n",
        "              [  p[5]+2*p[7]*x[0]+p[8]*x[1],\n",
        "                 p[6]+2*p[9]*x[1]+p[8]*x[0],],\n",
        "                             ], dtype=np.float32)\n",
        "                \n",
        "\n",
        "def convergence_veredict(matrix):\n",
        "  eigs = np.linalg.eigvals(matrix)\n",
        "  realparts = []\n",
        "  for x in eigs:\n",
        "    if np.isreal(x): realparts.append(x)\n",
        "    else: realparts.append(x.real)\n",
        "\n",
        "  # (1) the method of x_n+1 = A * x_n \n",
        "  # and we want to guarantee that A\n",
        "  # is an expansion\n",
        "  # (2) the method of using that \n",
        "  # every eigensolution moves away\n",
        "  # from the fixed point\n",
        "  if False: \n",
        "    if min(realparts)>=1: return 1\n",
        "  else:\n",
        "    if max(realparts)>0: return 1\n",
        "  return 0\n",
        "\n",
        "def rule(p,x):\n",
        "  return convergence_veredict(matrix_calculator(p,x))"
      ],
      "execution_count": 8,
      "outputs": []
    },
    {
      "cell_type": "markdown",
      "metadata": {
        "id": "c8zYUhJkTBfC"
      },
      "source": [
        "<b>(3) connect to Google Drive and generate the database that our network will fit!</b>"
      ]
    },
    {
      "cell_type": "code",
      "metadata": {
        "id": "A2JKYD42SBR-",
        "outputId": "feeb23b0-3013-48c3-d861-f88f460ba451",
        "colab": {
          "base_uri": "https://localhost:8080/"
        }
      },
      "source": [
        "if True:\n",
        "\n",
        "  # (0) connect to Google Drive\n",
        "  from google.colab import drive\n",
        "  drive.mount('/content/drive')\n",
        "  import os\n",
        "  try:\n",
        "    os.mkdir('drive/My Drive/complex-dynamics')\n",
        "  except: pass\n",
        "\n",
        "  # (1) initialize\n",
        "  data = {}\n",
        "  names = [\n",
        "           #'x0','y0',\n",
        "              'a_1','b_1','c_1','d_1','e_1',\n",
        "              'a_2','b_2','c_2','d_2','e_2',\n",
        "                                       'divergence',]\n",
        "  for x in names: data[x] = []\n",
        "\n",
        "  # (2) generate equations and calculate their stationary points\n",
        "  TIMES = 10000\n",
        "  print(f'about to generate {TIMES} equations... will take approximately {TIMES//2} seconds')\n",
        "  equations_and_solutions = generator(TIMES)\n",
        "\n",
        "  # (3) append the convergence veredict for every case\n",
        "  for k in equations_and_solutions.keys():\n",
        "    counter = 0\n",
        "    for j in equations_and_solutions[k]:        \n",
        "      counter += rule(k, j)\n",
        "    if counter>0: counter=1\n",
        "    param = k + (float(counter),)\n",
        "    for i,x in enumerate(names): data[x] += [param[i]]\n",
        "\n",
        "  # (4) balance dataset\n",
        "  df = pd.DataFrame(data)\n",
        "  q = df['divergence'].value_counts()\n",
        "  m = np.argmin([q[i] for i in range(2)])\n",
        "  df = pd.concat([df[df['divergence']==m], df[~(df['divergence']==m)][:int(q[m]*1.25)]],0).sample(frac=1)\n",
        "\n",
        "  # (5) save\n",
        "  df.to_csv('drive/My Drive/complex-dynamics/database.csv', index=False)"
      ],
      "execution_count": null,
      "outputs": [
        {
          "output_type": "stream",
          "text": [
            "Drive already mounted at /content/drive; to attempt to forcibly remount, call drive.mount(\"/content/drive\", force_remount=True).\n",
            "about to generate 10000 equations... will take approximately 5000 seconds\n",
            "Lap 0 of 10000 took 1.4e-05 seconds\n",
            "\n"
          ],
          "name": "stdout"
        }
      ]
    },
    {
      "cell_type": "code",
      "metadata": {
        "id": "nnCVG6w9TMb-"
      },
      "source": [
        "# THIS WILL KEEP COLLAB RUNNING \n",
        "# paste it in the browser's console; alternatively keep visiting the script every <30mins\n",
        "#(max time= 12hs)\n",
        "jsfunc=\"\"\"\n",
        "function ClickConnect(){\n",
        "  colab.config\n",
        "  console.log(\"Connnect Clicked - Start\"); \n",
        "  document.querySelector(\"#top-toolbar > colab-connect-button\").shadowRoot.querySelector(\"#connect\").click();\n",
        "  console.log(\"Connnect Clicked - End\");\n",
        "};\n",
        "setInterval(ClickConnect, 1000000)\n",
        "\"\"\""
      ],
      "execution_count": null,
      "outputs": []
    }
  ]
}