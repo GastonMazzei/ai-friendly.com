{
  "nbformat": 4,
  "nbformat_minor": 0,
  "metadata": {
    "colab": {
      "name": "for_colab.ipynb",
      "provenance": []
    },
    "kernelspec": {
      "display_name": "Python 3",
      "language": "python",
      "name": "python3"
    },
    "language_info": {
      "codemirror_mode": {
        "name": "ipython",
        "version": 3
      },
      "file_extension": ".py",
      "mimetype": "text/x-python",
      "name": "python",
      "nbconvert_exporter": "python",
      "pygments_lexer": "ipython3",
      "version": "3.7.6"
    }
  },
  "cells": [
    {
      "cell_type": "code",
      "metadata": {
        "id": "WZ321XWEHC60"
      },
      "source": [
        "import numpy as np\n",
        "import pandas as pd\n",
        "\n",
        "from numpy.random import rand\n",
        "from matplotlib import pyplot as plt"
      ],
      "execution_count": 12,
      "outputs": []
    },
    {
      "cell_type": "code",
      "metadata": {
        "id": "WDPGMN01HC7E"
      },
      "source": [
        "def initialstate(N):   \n",
        "    ''' \n",
        "    generates a random spin configuration for the\n",
        "    initial condition\n",
        "    '''\n",
        "    state = 2*np.random.randint(2, size=(N,N))-1\n",
        "    return state"
      ],
      "execution_count": 13,
      "outputs": []
    },
    {
      "cell_type": "code",
      "metadata": {
        "id": "an7L70zXHC7R"
      },
      "source": [
        "def mcmove(config, beta,field):\n",
        "    '''Monte Carlo move using Metropolis algorithm '''\n",
        "    for i in range(N):\n",
        "        for j in range(N):\n",
        "                a = np.random.randint(0, N)\n",
        "                b = np.random.randint(0, N)\n",
        "                s =  config[a, b]\n",
        "                nb = config[(a+1)%N,b] + config[a,(b+1)%N] + config[(a-1)%N,b] + config[a,(b-1)%N]\n",
        "                cost = 2*s*nb - s*field\n",
        "                if cost < 0:\n",
        "                    s *= -1\n",
        "                elif rand() < np.exp(-cost*beta):\n",
        "                    s *= -1\n",
        "                config[a, b] = s\n",
        "    return config"
      ],
      "execution_count": 14,
      "outputs": []
    },
    {
      "cell_type": "code",
      "metadata": {
        "id": "8mn5McDYHC7a"
      },
      "source": [
        "def calcEnergy(config,field):\n",
        "    '''Energy of a given configuration'''\n",
        "    energy = 0\n",
        "    for i in range(len(config)):\n",
        "        for j in range(len(config)):\n",
        "            S = config[i,j]\n",
        "            nb = config[(i+1)%N, j] + config[i,(j+1)%N] + config[(i-1)%N, j] + config[i,(j-1)%N]\n",
        "            energy += -nb*S - 4 * S * field\n",
        "    return energy/4."
      ],
      "execution_count": 15,
      "outputs": []
    },
    {
      "cell_type": "code",
      "metadata": {
        "id": "VNOd8n_rHC7h"
      },
      "source": [
        "def calcMag(config):\n",
        "    '''Magnetization of a given configuration'''\n",
        "    mag = np.sum(config)\n",
        "    return mag"
      ],
      "execution_count": 16,
      "outputs": []
    },
    {
      "cell_type": "code",
      "metadata": {
        "id": "kIZiM-I9HC7q"
      },
      "source": [
        "def main(nt, address):\n",
        "    counter = 0\n",
        "    for tt in range(nt):\n",
        "        counter += 1\n",
        "        field = rand()*(-1)**np.random.randint(2)\n",
        "        if tt%20==0: print('RUNNING ITERATION ',counter,' OF ',nt,' WITH FIELD INTENSITY ',field)\n",
        "        E1 = M1 = E2 = M2 = 0\n",
        "        config = initialstate(N)\n",
        "        iT=1.0/T[tt]; iT2=iT*iT;\n",
        "\n",
        "        for i in range(eqSteps):         \n",
        "            mcmove(config, iT,field)           # Monte Carlo moves\n",
        "\n",
        "        for i in range(mcSteps):\n",
        "            mcmove(config, iT,field)           \n",
        "            Ene = calcEnergy(config, field)     # calculate the energy\n",
        "            Mag = calcMag(config)        # calculate the magnetisation\n",
        "\n",
        "            E1 = E1 + Ene\n",
        "            M1 = M1 + Mag\n",
        "            M2 = M2 + Mag*Mag \n",
        "            E2 = E2 + Ene*Ene\n",
        "\n",
        "        H[tt] = float(field)\n",
        "        E[tt] = n1*E1\n",
        "        M[tt] = n1*M1\n",
        "        C[tt] = (n1*E2 - n2*E1*E1)*iT2\n",
        "        X[tt] = (n1*M2 - n2*M1*M1)*iT\n",
        "    if True:\n",
        "        f = plt.figure(figsize=(18, 10)); # plot the calculated values    \n",
        "        sp =  f.add_subplot(2, 2, 1 );\n",
        "        plt.scatter(T, E, s=50, marker='o', color='IndianRed')\n",
        "        plt.xlabel(\"Temperature (T)\", fontsize=20);\n",
        "        plt.ylabel(\"Energy \", fontsize=20);         plt.axis('tight');\n",
        "        sp =  f.add_subplot(2, 2, 2 );\n",
        "        plt.scatter(T, abs(M), s=50, marker='o', color='RoyalBlue')\n",
        "        plt.xlabel(\"Temperature (T)\", fontsize=20); \n",
        "        plt.ylabel(\"Magnetization \", fontsize=20);   plt.axis('tight');\n",
        "        sp =  f.add_subplot(2, 2, 3 );\n",
        "        plt.scatter(T, C, s=50, marker='o', color='IndianRed')\n",
        "        plt.xlabel(\"Temperature (T)\", fontsize=20);  \n",
        "        plt.ylabel(\"Specific Heat \", fontsize=20);   plt.axis('tight');   \n",
        "        sp =  f.add_subplot(2, 2, 4 );\n",
        "        plt.scatter(T, X, s=50, marker='o', color='RoyalBlue')\n",
        "        plt.xlabel(\"Temperature (T)\", fontsize=20); \n",
        "        plt.ylabel(\"Susceptibility\", fontsize=20);   plt.axis('tight');\n",
        "        plt.savefig(address+'/ising.png')\n",
        "    df = pd.DataFrame({'field':H ,'T':T,'E':E,'C':C,'X':X,'M':M}) # append\n",
        "    with open(address+'/ising.csv', 'a') as f:\n",
        "        df.to_csv(f, mode='a', header=f.tell()==0, index=False)"
      ],
      "execution_count": 22,
      "outputs": []
    },
    {
      "cell_type": "code",
      "metadata": {
        "id": "EN4sDL1oHC7x",
        "outputId": "16fe5164-103f-46eb-8cdc-5cd1bc5d2fe8",
        "colab": {
          "base_uri": "https://localhost:8080/"
        }
      },
      "source": [
        "nt      = 6500\n",
        "N       = 6        \n",
        "eqSteps = 1024      \n",
        "mcSteps = 1024       \n",
        "T       = np.linspace(0.2, 3.5, nt); \n",
        "E,M,C,X,H = [np.zeros(nt) for _ in range(5)]\n",
        "n1, n2  = 1.0/(mcSteps*N*N), 1.0/(mcSteps*mcSteps*N*N) \n",
        "\n",
        "from google.colab import drive\n",
        "drive.mount('/content/drive')\n",
        "import os\n",
        "try:\n",
        "  os.mkdir('drive/My Drive/ising')\n",
        "except: pass"
      ],
      "execution_count": 23,
      "outputs": [
        {
          "output_type": "stream",
          "text": [
            "Drive already mounted at /content/drive; to attempt to forcibly remount, call drive.mount(\"/content/drive\", force_remount=True).\n"
          ],
          "name": "stdout"
        }
      ]
    },
    {
      "cell_type": "code",
      "metadata": {
        "id": "fxw_k5SmHOGs",
        "outputId": "9572436d-5051-45ca-f9c0-9aa4ac808018",
        "colab": {
          "base_uri": "https://localhost:8080/"
        }
      },
      "source": [
        "address = 'drive/My Drive/ising' #where the results will be saved\n",
        "main(nt, address)"
      ],
      "execution_count": null,
      "outputs": [
        {
          "output_type": "stream",
          "text": [
            "RUNNING ITERATION  1  OF  6500  WITH FIELD INTENSITY  -0.5368045268249428\n"
          ],
          "name": "stdout"
        }
      ]
    },
    {
      "cell_type": "code",
      "metadata": {
        "id": "7N1cOEuHHY5m"
      },
      "source": [
        "# THIS WILL KEEP COLLAB RUNNING \n",
        "# paste it in the browser's console; alternatively keep visiting the script every <30mins\n",
        "#(max time= 12hs)\n",
        "jsfunc=\"\"\"\n",
        "function ClickConnect(){\n",
        "  colab.config\n",
        "  console.log(\"Connnect Clicked - Start\"); \n",
        "  document.querySelector(\"#top-toolbar > colab-connect-button\").shadowRoot.querySelector(\"#connect\").click();\n",
        "  console.log(\"Connnect Clicked - End\");\n",
        "};\n",
        "setInterval(ClickConnect, 1000000)\n",
        "\"\"\""
      ],
      "execution_count": 20,
      "outputs": []
    }
  ]
}